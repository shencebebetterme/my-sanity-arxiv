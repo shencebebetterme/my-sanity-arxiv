{
 "cells": [
  {
   "cell_type": "code",
   "execution_count": 1,
   "metadata": {
    "collapsed": true
   },
   "outputs": [],
   "source": [
    "import os\n",
    "import json\n",
    "import time\n",
    "import sys\n",
    "import pickle\n",
    "import argparse\n",
    "import dateutil.parser\n",
    "from random import shuffle, randrange, uniform\n",
    "\n",
    "import numpy as np\n",
    "from sqlite3 import dbapi2 as sqlite3\n",
    "from hashlib import md5\n",
    "from flask import Flask, request, session, url_for, redirect, \\\n",
    "     render_template, abort, g, flash, _app_ctx_stack\n",
    "from flask_limiter import Limiter\n",
    "from werkzeug import check_password_hash, generate_password_hash\n",
    "import pymongo\n",
    "\n",
    "from utils import safe_pickle_dump, strip_version, isvalidid, Config\n",
    "import os\n",
    "import sys\n",
    "import pickle\n",
    "# non-standard imports\n",
    "import numpy as np\n",
    "from sklearn import svm\n",
    "from sqlite3 import dbapi2 as sqlite3\n",
    "# local imports\n",
    "from utils import safe_pickle_dump, strip_version, Config"
   ]
  },
  {
   "cell_type": "code",
   "execution_count": 2,
   "metadata": {
    "collapsed": true
   },
   "outputs": [],
   "source": [
    "if not os.path.isfile(Config.database_path):\n",
    "  print(\"the database file as.db should exist. You can create an empty database with sqlite3 as.db < schema.sql\")\n",
    "  sys.exit()"
   ]
  },
  {
   "cell_type": "code",
   "execution_count": null,
   "metadata": {
    "collapsed": true
   },
   "outputs": [],
   "source": []
  },
  {
   "cell_type": "code",
   "execution_count": 3,
   "metadata": {
    "collapsed": true
   },
   "outputs": [],
   "source": [
    "sqldb = sqlite3.connect(Config.database_path)"
   ]
  },
  {
   "cell_type": "code",
   "execution_count": 5,
   "metadata": {
    "collapsed": true
   },
   "outputs": [],
   "source": [
    "def query_db(query, args=(), one=False):\n",
    "  \"\"\"Queries the database and returns a list of dictionaries.\"\"\"\n",
    "  cur = sqldb.execute(query, args)\n",
    "  rv = cur.fetchall()\n",
    "  return (rv[0] if rv else None) if one else rv"
   ]
  },
  {
   "cell_type": "code",
   "execution_count": 6,
   "metadata": {
    "collapsed": true
   },
   "outputs": [],
   "source": [
    "users = query_db('''select * from user''')"
   ]
  },
  {
   "cell_type": "code",
   "execution_count": 7,
   "metadata": {},
   "outputs": [
    {
     "data": {
      "text/plain": [
       "[(1,\n",
       "  'scbebetterme',\n",
       "  'pbkdf2:sha1:1000$nuUjaWwl$7e43984cb1f14dc7b57d2fe6399551772c962615',\n",
       "  1503146987)]"
      ]
     },
     "execution_count": 7,
     "metadata": {},
     "output_type": "execute_result"
    }
   ],
   "source": [
    "users"
   ]
  },
  {
   "cell_type": "code",
   "execution_count": 14,
   "metadata": {
    "collapsed": true
   },
   "outputs": [],
   "source": [
    "saved_ids=query_db('select * from library')"
   ]
  },
  {
   "cell_type": "code",
   "execution_count": 24,
   "metadata": {
    "collapsed": true
   },
   "outputs": [],
   "source": [
    "\n",
    "ids=[]\n",
    "for saved_id in saved_ids:\n",
    "    ids.append(saved_id[1])\n",
    "    \n"
   ]
  },
  {
   "cell_type": "code",
   "execution_count": 27,
   "metadata": {
    "collapsed": true
   },
   "outputs": [],
   "source": [
    "idversions = [db[id]['_rawid'] +'v'+ str(db[id]['_version']) for id in ids]\n"
   ]
  },
  {
   "cell_type": "code",
   "execution_count": 28,
   "metadata": {},
   "outputs": [
    {
     "data": {
      "text/plain": [
       "['1708.00871v1', '1707.09589v2', '1708.05606v1']"
      ]
     },
     "execution_count": 28,
     "metadata": {},
     "output_type": "execute_result"
    }
   ],
   "source": [
    "idversions"
   ]
  },
  {
   "cell_type": "code",
   "execution_count": 22,
   "metadata": {
    "collapsed": true
   },
   "outputs": [],
   "source": [
    "\n",
    "article_titles=[]\n",
    "for saved_id in saved_ids:\n",
    "    id = saved_id[1]\n",
    "    article_titles.append(db[id]['title'])\n"
   ]
  },
  {
   "cell_type": "code",
   "execution_count": 23,
   "metadata": {},
   "outputs": [
    {
     "data": {
      "text/plain": [
       "['Spread of entanglement in a Sachdev-Ye-Kitaev chain',\n",
       " 'Dispersive SYK model: band structure and quantum chaos',\n",
       " 'Null hypersurface quantization, electromagnetic duality and asympotic\\n  symmetries of Maxwell theory']"
      ]
     },
     "execution_count": 23,
     "metadata": {},
     "output_type": "execute_result"
    }
   ],
   "source": [
    "article_titles"
   ]
  },
  {
   "cell_type": "code",
   "execution_count": 20,
   "metadata": {},
   "outputs": [
    {
     "data": {
      "text/plain": [
       "{'_rawid': '1708.00871',\n",
       " '_version': 1,\n",
       " 'arxiv_comment': '1+46 pages, 11 figures',\n",
       " 'arxiv_primary_category': {'scheme': 'http://arxiv.org/schemas/atom',\n",
       "  'term': 'hep-th'},\n",
       " 'author': 'Xiao-Liang Qi',\n",
       " 'author_detail': {'name': 'Xiao-Liang Qi'},\n",
       " 'authors': [{'name': 'Yingfei Gu'},\n",
       "  {'name': 'Andrew Lucas'},\n",
       "  {'name': 'Xiao-Liang Qi'}],\n",
       " 'guidislink': True,\n",
       " 'id': 'http://arxiv.org/abs/1708.00871v1',\n",
       " 'link': 'http://arxiv.org/abs/1708.00871v1',\n",
       " 'links': [{'href': 'http://arxiv.org/abs/1708.00871v1',\n",
       "   'rel': 'alternate',\n",
       "   'type': 'text/html'},\n",
       "  {'href': 'http://arxiv.org/pdf/1708.00871v1',\n",
       "   'rel': 'related',\n",
       "   'title': 'pdf',\n",
       "   'type': 'application/pdf'}],\n",
       " 'published': '2017-08-02T18:01:57Z',\n",
       " 'published_parsed': time.struct_time(tm_year=2017, tm_mon=8, tm_mday=2, tm_hour=18, tm_min=1, tm_sec=57, tm_wday=2, tm_yday=214, tm_isdst=0),\n",
       " 'summary': \"We study the spread of R\\\\'enyi entropy between two halves of a\\nSachdev-Ye-Kitaev (SYK) chain of Majorana fermions, prepared in a thermofield\\ndouble (TFD) state. The SYK chain model is a model of chaotic many-body\\nsystems, which describes a one-dimensional lattice of Majorana fermions, with\\nspatially local random quartic interaction. We find that for integer R\\\\'enyi\\nindex $n>1$, the R\\\\'enyi entanglement entropy saturates at a parametrically\\nsmaller value than expected. This implies that the TFD state of the SYK chain\\ndoes not rapidly thermalize, despite being maximally chaotic: instead, it\\nrapidly approaches a prethermal state. We compare our results to the signatures\\nof thermalization observed in other quenches in the SYK model, and to intuition\\nfrom nearly-$\\\\mathrm{AdS}_2$ gravity.\",\n",
       " 'summary_detail': {'base': '',\n",
       "  'language': None,\n",
       "  'type': 'text/plain',\n",
       "  'value': \"We study the spread of R\\\\'enyi entropy between two halves of a\\nSachdev-Ye-Kitaev (SYK) chain of Majorana fermions, prepared in a thermofield\\ndouble (TFD) state. The SYK chain model is a model of chaotic many-body\\nsystems, which describes a one-dimensional lattice of Majorana fermions, with\\nspatially local random quartic interaction. We find that for integer R\\\\'enyi\\nindex $n>1$, the R\\\\'enyi entanglement entropy saturates at a parametrically\\nsmaller value than expected. This implies that the TFD state of the SYK chain\\ndoes not rapidly thermalize, despite being maximally chaotic: instead, it\\nrapidly approaches a prethermal state. We compare our results to the signatures\\nof thermalization observed in other quenches in the SYK model, and to intuition\\nfrom nearly-$\\\\mathrm{AdS}_2$ gravity.\"},\n",
       " 'tags': [{'label': None,\n",
       "   'scheme': 'http://arxiv.org/schemas/atom',\n",
       "   'term': 'hep-th'},\n",
       "  {'label': None,\n",
       "   'scheme': 'http://arxiv.org/schemas/atom',\n",
       "   'term': 'cond-mat.str-el'}],\n",
       " 'title': 'Spread of entanglement in a Sachdev-Ye-Kitaev chain',\n",
       " 'title_detail': {'base': '',\n",
       "  'language': None,\n",
       "  'type': 'text/plain',\n",
       "  'value': 'Spread of entanglement in a Sachdev-Ye-Kitaev chain'},\n",
       " 'updated': '2017-08-02T18:01:57Z',\n",
       " 'updated_parsed': time.struct_time(tm_year=2017, tm_mon=8, tm_mday=2, tm_hour=18, tm_min=1, tm_sec=57, tm_wday=2, tm_yday=214, tm_isdst=0)}"
      ]
     },
     "execution_count": 20,
     "metadata": {},
     "output_type": "execute_result"
    }
   ],
   "source": [
    "db[a[1]]"
   ]
  },
  {
   "cell_type": "code",
   "execution_count": null,
   "metadata": {
    "collapsed": true
   },
   "outputs": [],
   "source": []
  },
  {
   "cell_type": "code",
   "execution_count": null,
   "metadata": {
    "collapsed": true
   },
   "outputs": [],
   "source": []
  },
  {
   "cell_type": "code",
   "execution_count": 55,
   "metadata": {
    "collapsed": true
   },
   "outputs": [],
   "source": [
    "def encode_feedparser_dict(d):\n",
    "  \"\"\" \n",
    "  helper function to get rid of feedparser bs with a deep copy. \n",
    "  I hate when libs wrap simple things in their own classes.\n",
    "  \"\"\"\n",
    "  if isinstance(d, feedparser.FeedParserDict) or isinstance(d, dict):\n",
    "    j = {}\n",
    "    for k in d.keys():\n",
    "      j[k] = encode_feedparser_dict(d[k])\n",
    "    return j\n",
    "  elif isinstance(d, list):\n",
    "    l = []\n",
    "    for k in d:\n",
    "      l.append(encode_feedparser_dict(k))\n",
    "    return l\n",
    "  else:\n",
    "    return d\n",
    "\n",
    "def parse_arxiv_url(url):\n",
    "  \"\"\" \n",
    "  examples is http://arxiv.org/abs/1512.08756v2\n",
    "  we want to extract the raw id and the version\n",
    "  \"\"\"\n",
    "  ix = url.rfind('/')\n",
    "  idversion = url[ix+1:] # extract just the id (and the version)\n",
    "  parts = idversion.split('v')\n",
    "  assert len(parts) == 2, 'error parsing url ' + url\n",
    "  return parts[0], int(parts[1])"
   ]
  },
  {
   "cell_type": "code",
   "execution_count": 2,
   "metadata": {},
   "outputs": [
    {
     "ename": "KeyError",
     "evalue": "'1611.07917'",
     "output_type": "error",
     "traceback": [
      "\u001b[0;31m---------------------------------------------------------------------------\u001b[0m",
      "\u001b[0;31mKeyError\u001b[0m                                  Traceback (most recent call last)",
      "\u001b[0;32m<ipython-input-2-ffb7b947d781>\u001b[0m in \u001b[0;36m<module>\u001b[0;34m()\u001b[0m\n\u001b[1;32m      1\u001b[0m \u001b[0mdb\u001b[0m \u001b[0;34m=\u001b[0m \u001b[0mpickle\u001b[0m\u001b[0;34m.\u001b[0m\u001b[0mload\u001b[0m\u001b[0;34m(\u001b[0m\u001b[0mopen\u001b[0m\u001b[0;34m(\u001b[0m\u001b[0mConfig\u001b[0m\u001b[0;34m.\u001b[0m\u001b[0mdb_path\u001b[0m\u001b[0;34m,\u001b[0m \u001b[0;34m'rb'\u001b[0m\u001b[0;34m)\u001b[0m\u001b[0;34m)\u001b[0m\u001b[0;34m\u001b[0m\u001b[0m\n\u001b[0;32m----> 2\u001b[0;31m \u001b[0mdb\u001b[0m\u001b[0;34m[\u001b[0m\u001b[0;34m'1611.07917'\u001b[0m\u001b[0;34m]\u001b[0m\u001b[0;34m\u001b[0m\u001b[0m\n\u001b[0m",
      "\u001b[0;31mKeyError\u001b[0m: '1611.07917'"
     ]
    }
   ],
   "source": [
    "db = pickle.load(open(Config.db_path, 'rb'))\n",
    "db['1611.07917']"
   ]
  },
  {
   "cell_type": "code",
   "execution_count": 32,
   "metadata": {},
   "outputs": [],
   "source": [
    "db = pickle.load(open(Config.db_path, 'rb'))\n",
    "del db['1511.04021']\n",
    "del db['1412.6087']\n",
    "del db['1611.07917']\n",
    "safe_pickle_dump(db, Config.db_path)"
   ]
  },
  {
   "cell_type": "code",
   "execution_count": 69,
   "metadata": {},
   "outputs": [
    {
     "name": "stdout",
     "output_type": "stream",
     "text": [
      "Updated b'2016-04-26T18:00:09Z' added b'Comments on the Sachdev-Ye-Kitaev model'\n",
      "Saving database with 1031 papers to db.p\n"
     ]
    }
   ],
   "source": [
    "db = pickle.load(open(Config.db_path, 'rb'))\n",
    "xml='<?xml version=\"1.0\" encoding=\"UTF-8\"?><feed xmlns=\"http://www.w3.org/2005/Atom\"><link href=\"http://arxiv.org/api/query?search_query%3Dcat%3Ahep-th%26id_list%3D%26start%3D20%26max_results%3D1\" rel=\"self\" type=\"application/atom+xml\"/><title type=\"html\">ArXiv Query: search_query=cat:hep-th&amp;id_list=&amp;start=20&amp;max_results=1</title><id>http://arxiv.org/api/w7OBLXfq/5JLmD3NcNop0iAVzqE</id><updated>2017-08-20T00:00:00-04:00</updated><opensearch:totalResults xmlns:opensearch=\"http://a9.com/-/spec/opensearch/1.1/\">118402</opensearch:totalResults><opensearch:startIndex xmlns:opensearch=\"http://a9.com/-/spec/opensearch/1.1/\">20</opensearch:startIndex><opensearch:itemsPerPage xmlns:opensearch=\"http://a9.com/-/spec/opensearch/1.1/\">1</opensearch:itemsPerPage><entry><id>http://arxiv.org/abs/1604.07818v1</id><updated>2016-04-26T18:00:09Z</updated><published>2016-04-26T18:00:09Z</published><title>\\nComments on the Sachdev-Ye-Kitaev model</title><summary> We study a quantum mechanical model proposed by Sachdev, Ye and Kitaev. The\\nmodel consists of $N$ Majorana fermions with random interactions of a few\\nfermions at a time. It it tractable in the large $N$ limit, where the classical\\nvariable is a bilocal fermion bilinear. The model becomes strongly interacting\\nat low energies where it develops an emergent conformal symmetry. We study two\\nand four point functions of the fundamental fermions. This provides the\\nspectrum of physical excitations for the bilocal field.\\n</summary><author><name>Juan Maldacena</name></author><author><name>Douglas Stanford</name></author><arxiv:primary_category xmlns:arxiv=\"http://arxiv.org/schemas/atom\" term=\"hep-th\" scheme=\"http://arxiv.org/schemas/atom\"/><link href=\"http://arxiv.org/abs/1604.07818v1 \" rel=\"alternate\" type=\"text/html\"/><link title=\"pdf\" href=\"http://arxiv.org/pdf/1604.07818v1 \" rel=\"related\" type=\"application/pdf\"/></entry></feed>'\n",
    "parse = feedparser.parse(xml)\n",
    "num_added=0\n",
    "for e in parse.entries:\n",
    "    j = encode_feedparser_dict(e)\n",
    "    rawid, version = parse_arxiv_url(j['id'])\n",
    "    j['_rawid'] = rawid\n",
    "    j['_version'] = version\n",
    "    j['tags']=[{'label': None, 'term': 'hep-th', 'scheme': 'http://arxiv.org/schemas/atom'}]\n",
    "    if not rawid in db or j['_version'] > db[rawid]['_version']:\n",
    "        db[rawid] = j\n",
    "        num_added+=1\n",
    "        print('Updated %s added %s' % (j['updated'].encode('utf-8'), j['title'].encode('utf-8')))\n",
    "\n",
    "if num_added>0:\n",
    "    print('Saving database with %d papers to %s' % (len(db), Config.db_path))\n",
    "    safe_pickle_dump(db, Config.db_path)\n"
   ]
  },
  {
   "cell_type": "code",
   "execution_count": 18,
   "metadata": {
    "collapsed": true
   },
   "outputs": [],
   "source": [
    "db = pickle.load(open(Config.db_path, 'rb'))\n"
   ]
  },
  {
   "cell_type": "code",
   "execution_count": 29,
   "metadata": {},
   "outputs": [
    {
     "data": {
      "text/plain": [
       "{'_rawid': '1703.00365',\n",
       " '_version': 1,\n",
       " 'arxiv_primary_category': {'scheme': 'http://arxiv.org/schemas/atom',\n",
       "  'term': 'cond-mat.stat-mech'},\n",
       " 'author': 'Frank Verstraete',\n",
       " 'author_detail': {'name': 'Frank Verstraete'},\n",
       " 'authors': [{'name': 'Matthias Bal'},\n",
       "  {'name': 'Michaël Mariën'},\n",
       "  {'name': 'Jutho Haegeman'},\n",
       "  {'name': 'Frank Verstraete'}],\n",
       " 'guidislink': True,\n",
       " 'id': 'http://arxiv.org/abs/1703.00365v1',\n",
       " 'link': 'http://arxiv.org/abs/1703.00365v1',\n",
       " 'links': [{'href': 'http://arxiv.org/abs/1703.00365v1',\n",
       "   'rel': 'alternate',\n",
       "   'type': 'text/html'},\n",
       "  {'href': 'http://arxiv.org/pdf/1703.00365v1',\n",
       "   'rel': 'related',\n",
       "   'title': 'pdf',\n",
       "   'type': 'application/pdf'}],\n",
       " 'published': '2017-03-01T18:00:09Z',\n",
       " 'published_parsed': time.struct_time(tm_year=2017, tm_mon=3, tm_mday=1, tm_hour=18, tm_min=0, tm_sec=9, tm_wday=2, tm_yday=60, tm_isdst=0),\n",
       " 'summary': 'A renormalization group flow of Hamiltonians for two-dimensional classical\\npartition functions is constructed using tensor networks. Similar to tensor\\nnetwork renormalization ([G. Evenbly and G. Vidal, Phys. Rev. Lett. 115, 180405\\n(2015)], [S. Yang, Z.-C. Gu, and X.-G Wen,',\n",
       " 'summary_detail': {'base': '',\n",
       "  'language': None,\n",
       "  'type': 'text/plain',\n",
       "  'value': 'A renormalization group flow of Hamiltonians for two-dimensional classical\\npartition functions is constructed using tensor networks. Similar to tensor\\nnetwork renormalization ([G. Evenbly and G. Vidal, Phys. Rev. Lett. 115, 180405\\n(2015)], [S. Yang, Z.-C. Gu, and X.-G Wen,'},\n",
       " 'tags': [{'label': None, 'scheme': None, 'term': 'cond-mat.stat-mech'}],\n",
       " 'title': 'Renormalization group flows of Hamiltonians using tensor networks',\n",
       " 'title_detail': {'base': '',\n",
       "  'language': None,\n",
       "  'type': 'text/plain',\n",
       "  'value': 'Renormalization group flows of Hamiltonians using tensor networks'},\n",
       " 'updated': '2017-05-24T18:00:09Z',\n",
       " 'updated_parsed': time.struct_time(tm_year=2017, tm_mon=5, tm_mday=24, tm_hour=18, tm_min=0, tm_sec=9, tm_wday=2, tm_yday=144, tm_isdst=0)}"
      ]
     },
     "execution_count": 29,
     "metadata": {},
     "output_type": "execute_result"
    }
   ],
   "source": [
    "db = pickle.load(open(Config.db_path, 'rb'))\n",
    "db['1703.00365']"
   ]
  },
  {
   "cell_type": "code",
   "execution_count": 22,
   "metadata": {},
   "outputs": [
    {
     "data": {
      "text/plain": [
       "True"
      ]
     },
     "execution_count": 22,
     "metadata": {},
     "output_type": "execute_result"
    }
   ],
   "source": [
    "'9605187' in db.keys()"
   ]
  },
  {
   "cell_type": "code",
   "execution_count": 20,
   "metadata": {
    "collapsed": true
   },
   "outputs": [],
   "source": [
    "safe_pickle_dump(db, Config.db_path)"
   ]
  },
  {
   "cell_type": "code",
   "execution_count": 28,
   "metadata": {},
   "outputs": [
    {
     "data": {
      "text/plain": [
       "'http://arxiv.org/abs/1008.4964v3'"
      ]
     },
     "execution_count": 28,
     "metadata": {},
     "output_type": "execute_result"
    }
   ],
   "source": [
    "db['1008.4964']['link']"
   ]
  },
  {
   "cell_type": "code",
   "execution_count": null,
   "metadata": {
    "collapsed": true
   },
   "outputs": [],
   "source": []
  },
  {
   "cell_type": "code",
   "execution_count": 34,
   "metadata": {},
   "outputs": [],
   "source": [
    "db = pickle.load(open(Config.db_path, 'rb'))\n",
    "for pid,j in db.items():\n",
    "    try:\n",
    "        j['tags']\n",
    "    except:\n",
    "        print(pid,\"\\n\")\n",
    "        \n",
    "safe_pickle_dump(db, Config.db_path)"
   ]
  },
  {
   "cell_type": "code",
   "execution_count": null,
   "metadata": {
    "collapsed": true
   },
   "outputs": [],
   "source": []
  }
 ],
 "metadata": {
  "anaconda-cloud": {},
  "kernelspec": {
   "display_name": "Python [conda root]",
   "language": "python",
   "name": "conda-root-py"
  },
  "language_info": {
   "codemirror_mode": {
    "name": "ipython",
    "version": 3
   },
   "file_extension": ".py",
   "mimetype": "text/x-python",
   "name": "python",
   "nbconvert_exporter": "python",
   "pygments_lexer": "ipython3",
   "version": "3.5.2"
  }
 },
 "nbformat": 4,
 "nbformat_minor": 1
}
